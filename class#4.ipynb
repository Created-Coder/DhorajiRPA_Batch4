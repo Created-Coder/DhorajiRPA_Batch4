{
 "cells": [
  {
   "cell_type": "code",
   "execution_count": 1,
   "metadata": {},
   "outputs": [],
   "source": [
    "# Tupple"
   ]
  },
  {
   "cell_type": "code",
   "execution_count": 5,
   "metadata": {},
   "outputs": [],
   "source": [
    "tupple = (\"abc\", \"xyz\", \"efg\", \"efg\")"
   ]
  },
  {
   "cell_type": "code",
   "execution_count": 6,
   "metadata": {},
   "outputs": [
    {
     "data": {
      "text/plain": [
       "('abc', 'xyz', 'efg', 'efg')"
      ]
     },
     "execution_count": 6,
     "metadata": {},
     "output_type": "execute_result"
    }
   ],
   "source": [
    "tupple"
   ]
  },
  {
   "cell_type": "code",
   "execution_count": 7,
   "metadata": {},
   "outputs": [],
   "source": [
    "# For Loops"
   ]
  },
  {
   "cell_type": "code",
   "execution_count": 38,
   "metadata": {},
   "outputs": [
    {
     "name": "stdout",
     "output_type": "stream",
     "text": [
      "0\n",
      "1\n",
      "2\n",
      "3\n",
      "4\n",
      "5\n",
      "6\n",
      "7\n",
      "8\n",
      "9\n",
      "10\n",
      "11\n",
      "12\n",
      "13\n",
      "14\n",
      "15\n",
      "16\n",
      "17\n",
      "18\n",
      "19\n",
      "20\n",
      "21\n",
      "22\n",
      "23\n",
      "24\n",
      "25\n",
      "26\n",
      "27\n",
      "28\n",
      "29\n",
      "30\n",
      "31\n",
      "32\n",
      "33\n",
      "34\n",
      "35\n",
      "36\n",
      "37\n",
      "38\n",
      "39\n",
      "40\n",
      "41\n",
      "42\n",
      "43\n",
      "44\n",
      "45\n",
      "46\n",
      "47\n",
      "48\n",
      "49\n",
      "50\n",
      "51\n",
      "52\n",
      "53\n",
      "54\n",
      "55\n",
      "56\n",
      "57\n",
      "58\n",
      "59\n",
      "60\n",
      "61\n",
      "62\n",
      "63\n",
      "64\n",
      "65\n",
      "66\n",
      "67\n",
      "68\n",
      "69\n",
      "70\n",
      "71\n",
      "72\n",
      "73\n",
      "74\n",
      "75\n",
      "76\n",
      "77\n",
      "78\n",
      "79\n",
      "80\n",
      "81\n",
      "82\n",
      "83\n",
      "84\n",
      "85\n",
      "86\n",
      "87\n",
      "88\n",
      "89\n",
      "90\n",
      "91\n",
      "92\n",
      "93\n",
      "94\n",
      "95\n",
      "96\n",
      "97\n",
      "98\n",
      "99\n"
     ]
    }
   ],
   "source": [
    "for i in range(100):\n",
    "    print(i)"
   ]
  },
  {
   "cell_type": "code",
   "execution_count": 39,
   "metadata": {},
   "outputs": [],
   "source": [
    "\n",
    "cities = ['karachi', 'Lahore', 'Islamabad']"
   ]
  },
  {
   "cell_type": "code",
   "execution_count": 40,
   "metadata": {},
   "outputs": [
    {
     "name": "stdout",
     "output_type": "stream",
     "text": [
      "karachi\n",
      "Lahore\n",
      "Islamabad\n"
     ]
    }
   ],
   "source": [
    "for i in cities:\n",
    "    print(i)"
   ]
  },
  {
   "cell_type": "code",
   "execution_count": 43,
   "metadata": {},
   "outputs": [
    {
     "name": "stdout",
     "output_type": "stream",
     "text": [
      "10\n",
      "11\n",
      "12\n",
      "13\n",
      "14\n",
      "15\n",
      "16\n",
      "17\n",
      "18\n",
      "19\n"
     ]
    }
   ],
   "source": [
    "for i in range(10, 20):\n",
    "    print(i)"
   ]
  },
  {
   "cell_type": "code",
   "execution_count": 45,
   "metadata": {},
   "outputs": [],
   "source": [
    "cleanist_city = \"Lahore\"\n",
    "cities = ['karachi', 'Lahore', 'Islamabad']"
   ]
  },
  {
   "cell_type": "code",
   "execution_count": 46,
   "metadata": {},
   "outputs": [
    {
     "name": "stdout",
     "output_type": "stream",
     "text": [
      "Yes, It's a cleanist city\n"
     ]
    }
   ],
   "source": [
    "if cities[1] == cleanist_city:\n",
    "    print(\"Yes, It's a cleanist city\")"
   ]
  },
  {
   "cell_type": "code",
   "execution_count": 47,
   "metadata": {},
   "outputs": [
    {
     "name": "stdout",
     "output_type": "stream",
     "text": [
      "karachi is not a cleanist city\n",
      "Yes, It's a cleanist city\n",
      "Islamabad is not a cleanist city\n"
     ]
    }
   ],
   "source": [
    "for i in cities:\n",
    "    if i == cleanist_city:\n",
    "        print(\"Yes, It's a cleanist city\") \n",
    "    \n",
    "    else:\n",
    "        print(i, \"is not a cleanist city\")"
   ]
  },
  {
   "cell_type": "code",
   "execution_count": 48,
   "metadata": {},
   "outputs": [],
   "source": [
    "# Nested Loop"
   ]
  },
  {
   "cell_type": "code",
   "execution_count": 54,
   "metadata": {},
   "outputs": [],
   "source": [
    "firstNames = ['a', 'b', 'c', 'd', 'e', 'f', 'g']\n",
    "lastNames = [1, 2, 3, 4, 5, 6, 7]\n",
    "thirdNames = ['x', 'y', 'z', 'j', 'q', 'r', 'i']"
   ]
  },
  {
   "cell_type": "code",
   "execution_count": 55,
   "metadata": {},
   "outputs": [
    {
     "name": "stdout",
     "output_type": "stream",
     "text": [
      "a 1 x\n",
      "a 1 y\n",
      "a 1 z\n",
      "a 1 j\n",
      "a 1 q\n",
      "a 1 r\n",
      "a 1 i\n",
      "a 2 x\n",
      "a 2 y\n",
      "a 2 z\n",
      "a 2 j\n",
      "a 2 q\n",
      "a 2 r\n",
      "a 2 i\n",
      "a 3 x\n",
      "a 3 y\n",
      "a 3 z\n",
      "a 3 j\n",
      "a 3 q\n",
      "a 3 r\n",
      "a 3 i\n",
      "a 4 x\n",
      "a 4 y\n",
      "a 4 z\n",
      "a 4 j\n",
      "a 4 q\n",
      "a 4 r\n",
      "a 4 i\n",
      "a 5 x\n",
      "a 5 y\n",
      "a 5 z\n",
      "a 5 j\n",
      "a 5 q\n",
      "a 5 r\n",
      "a 5 i\n",
      "a 6 x\n",
      "a 6 y\n",
      "a 6 z\n",
      "a 6 j\n",
      "a 6 q\n",
      "a 6 r\n",
      "a 6 i\n",
      "a 7 x\n",
      "a 7 y\n",
      "a 7 z\n",
      "a 7 j\n",
      "a 7 q\n",
      "a 7 r\n",
      "a 7 i\n",
      "b 1 x\n",
      "b 1 y\n",
      "b 1 z\n",
      "b 1 j\n",
      "b 1 q\n",
      "b 1 r\n",
      "b 1 i\n",
      "b 2 x\n",
      "b 2 y\n",
      "b 2 z\n",
      "b 2 j\n",
      "b 2 q\n",
      "b 2 r\n",
      "b 2 i\n",
      "b 3 x\n",
      "b 3 y\n",
      "b 3 z\n",
      "b 3 j\n",
      "b 3 q\n",
      "b 3 r\n",
      "b 3 i\n",
      "b 4 x\n",
      "b 4 y\n",
      "b 4 z\n",
      "b 4 j\n",
      "b 4 q\n",
      "b 4 r\n",
      "b 4 i\n",
      "b 5 x\n",
      "b 5 y\n",
      "b 5 z\n",
      "b 5 j\n",
      "b 5 q\n",
      "b 5 r\n",
      "b 5 i\n",
      "b 6 x\n",
      "b 6 y\n",
      "b 6 z\n",
      "b 6 j\n",
      "b 6 q\n",
      "b 6 r\n",
      "b 6 i\n",
      "b 7 x\n",
      "b 7 y\n",
      "b 7 z\n",
      "b 7 j\n",
      "b 7 q\n",
      "b 7 r\n",
      "b 7 i\n",
      "c 1 x\n",
      "c 1 y\n",
      "c 1 z\n",
      "c 1 j\n",
      "c 1 q\n",
      "c 1 r\n",
      "c 1 i\n",
      "c 2 x\n",
      "c 2 y\n",
      "c 2 z\n",
      "c 2 j\n",
      "c 2 q\n",
      "c 2 r\n",
      "c 2 i\n",
      "c 3 x\n",
      "c 3 y\n",
      "c 3 z\n",
      "c 3 j\n",
      "c 3 q\n",
      "c 3 r\n",
      "c 3 i\n",
      "c 4 x\n",
      "c 4 y\n",
      "c 4 z\n",
      "c 4 j\n",
      "c 4 q\n",
      "c 4 r\n",
      "c 4 i\n",
      "c 5 x\n",
      "c 5 y\n",
      "c 5 z\n",
      "c 5 j\n",
      "c 5 q\n",
      "c 5 r\n",
      "c 5 i\n",
      "c 6 x\n",
      "c 6 y\n",
      "c 6 z\n",
      "c 6 j\n",
      "c 6 q\n",
      "c 6 r\n",
      "c 6 i\n",
      "c 7 x\n",
      "c 7 y\n",
      "c 7 z\n",
      "c 7 j\n",
      "c 7 q\n",
      "c 7 r\n",
      "c 7 i\n",
      "d 1 x\n",
      "d 1 y\n",
      "d 1 z\n",
      "d 1 j\n",
      "d 1 q\n",
      "d 1 r\n",
      "d 1 i\n",
      "d 2 x\n",
      "d 2 y\n",
      "d 2 z\n",
      "d 2 j\n",
      "d 2 q\n",
      "d 2 r\n",
      "d 2 i\n",
      "d 3 x\n",
      "d 3 y\n",
      "d 3 z\n",
      "d 3 j\n",
      "d 3 q\n",
      "d 3 r\n",
      "d 3 i\n",
      "d 4 x\n",
      "d 4 y\n",
      "d 4 z\n",
      "d 4 j\n",
      "d 4 q\n",
      "d 4 r\n",
      "d 4 i\n",
      "d 5 x\n",
      "d 5 y\n",
      "d 5 z\n",
      "d 5 j\n",
      "d 5 q\n",
      "d 5 r\n",
      "d 5 i\n",
      "d 6 x\n",
      "d 6 y\n",
      "d 6 z\n",
      "d 6 j\n",
      "d 6 q\n",
      "d 6 r\n",
      "d 6 i\n",
      "d 7 x\n",
      "d 7 y\n",
      "d 7 z\n",
      "d 7 j\n",
      "d 7 q\n",
      "d 7 r\n",
      "d 7 i\n",
      "e 1 x\n",
      "e 1 y\n",
      "e 1 z\n",
      "e 1 j\n",
      "e 1 q\n",
      "e 1 r\n",
      "e 1 i\n",
      "e 2 x\n",
      "e 2 y\n",
      "e 2 z\n",
      "e 2 j\n",
      "e 2 q\n",
      "e 2 r\n",
      "e 2 i\n",
      "e 3 x\n",
      "e 3 y\n",
      "e 3 z\n",
      "e 3 j\n",
      "e 3 q\n",
      "e 3 r\n",
      "e 3 i\n",
      "e 4 x\n",
      "e 4 y\n",
      "e 4 z\n",
      "e 4 j\n",
      "e 4 q\n",
      "e 4 r\n",
      "e 4 i\n",
      "e 5 x\n",
      "e 5 y\n",
      "e 5 z\n",
      "e 5 j\n",
      "e 5 q\n",
      "e 5 r\n",
      "e 5 i\n",
      "e 6 x\n",
      "e 6 y\n",
      "e 6 z\n",
      "e 6 j\n",
      "e 6 q\n",
      "e 6 r\n",
      "e 6 i\n",
      "e 7 x\n",
      "e 7 y\n",
      "e 7 z\n",
      "e 7 j\n",
      "e 7 q\n",
      "e 7 r\n",
      "e 7 i\n",
      "f 1 x\n",
      "f 1 y\n",
      "f 1 z\n",
      "f 1 j\n",
      "f 1 q\n",
      "f 1 r\n",
      "f 1 i\n",
      "f 2 x\n",
      "f 2 y\n",
      "f 2 z\n",
      "f 2 j\n",
      "f 2 q\n",
      "f 2 r\n",
      "f 2 i\n",
      "f 3 x\n",
      "f 3 y\n",
      "f 3 z\n",
      "f 3 j\n",
      "f 3 q\n",
      "f 3 r\n",
      "f 3 i\n",
      "f 4 x\n",
      "f 4 y\n",
      "f 4 z\n",
      "f 4 j\n",
      "f 4 q\n",
      "f 4 r\n",
      "f 4 i\n",
      "f 5 x\n",
      "f 5 y\n",
      "f 5 z\n",
      "f 5 j\n",
      "f 5 q\n",
      "f 5 r\n",
      "f 5 i\n",
      "f 6 x\n",
      "f 6 y\n",
      "f 6 z\n",
      "f 6 j\n",
      "f 6 q\n",
      "f 6 r\n",
      "f 6 i\n",
      "f 7 x\n",
      "f 7 y\n",
      "f 7 z\n",
      "f 7 j\n",
      "f 7 q\n",
      "f 7 r\n",
      "f 7 i\n",
      "g 1 x\n",
      "g 1 y\n",
      "g 1 z\n",
      "g 1 j\n",
      "g 1 q\n",
      "g 1 r\n",
      "g 1 i\n",
      "g 2 x\n",
      "g 2 y\n",
      "g 2 z\n",
      "g 2 j\n",
      "g 2 q\n",
      "g 2 r\n",
      "g 2 i\n",
      "g 3 x\n",
      "g 3 y\n",
      "g 3 z\n",
      "g 3 j\n",
      "g 3 q\n",
      "g 3 r\n",
      "g 3 i\n",
      "g 4 x\n",
      "g 4 y\n",
      "g 4 z\n",
      "g 4 j\n",
      "g 4 q\n",
      "g 4 r\n",
      "g 4 i\n",
      "g 5 x\n",
      "g 5 y\n",
      "g 5 z\n",
      "g 5 j\n",
      "g 5 q\n",
      "g 5 r\n",
      "g 5 i\n",
      "g 6 x\n",
      "g 6 y\n",
      "g 6 z\n",
      "g 6 j\n",
      "g 6 q\n",
      "g 6 r\n",
      "g 6 i\n",
      "g 7 x\n",
      "g 7 y\n",
      "g 7 z\n",
      "g 7 j\n",
      "g 7 q\n",
      "g 7 r\n",
      "g 7 i\n"
     ]
    }
   ],
   "source": [
    "for first in firstNames:\n",
    "    for last in lastNames:\n",
    "        for third in thirdNames:\n",
    "            print(first, last, third)"
   ]
  },
  {
   "cell_type": "code",
   "execution_count": 56,
   "metadata": {},
   "outputs": [],
   "source": [
    "name = \"salman\""
   ]
  },
  {
   "cell_type": "code",
   "execution_count": 57,
   "metadata": {},
   "outputs": [],
   "source": [
    "name = name.upper()"
   ]
  },
  {
   "cell_type": "code",
   "execution_count": 58,
   "metadata": {},
   "outputs": [
    {
     "data": {
      "text/plain": [
       "'SALMAN'"
      ]
     },
     "execution_count": 58,
     "metadata": {},
     "output_type": "execute_result"
    }
   ],
   "source": [
    "name"
   ]
  },
  {
   "cell_type": "code",
   "execution_count": 60,
   "metadata": {},
   "outputs": [],
   "source": [
    "name = name.lower()"
   ]
  },
  {
   "cell_type": "code",
   "execution_count": 61,
   "metadata": {},
   "outputs": [
    {
     "data": {
      "text/plain": [
       "'salman'"
      ]
     },
     "execution_count": 61,
     "metadata": {},
     "output_type": "execute_result"
    }
   ],
   "source": [
    "name"
   ]
  },
  {
   "cell_type": "code",
   "execution_count": 62,
   "metadata": {},
   "outputs": [],
   "source": [
    "name = name.capitalize()"
   ]
  },
  {
   "cell_type": "code",
   "execution_count": 63,
   "metadata": {},
   "outputs": [
    {
     "data": {
      "text/plain": [
       "'Salman'"
      ]
     },
     "execution_count": 63,
     "metadata": {},
     "output_type": "execute_result"
    }
   ],
   "source": [
    "name"
   ]
  },
  {
   "cell_type": "code",
   "execution_count": 64,
   "metadata": {},
   "outputs": [],
   "source": [
    "# Dictionaries "
   ]
  },
  {
   "cell_type": "code",
   "execution_count": 65,
   "metadata": {},
   "outputs": [],
   "source": [
    "dictionary = {'firstName' : 'a', 'lastName' : 'b', \"age\" : 12}"
   ]
  },
  {
   "cell_type": "code",
   "execution_count": 72,
   "metadata": {},
   "outputs": [],
   "source": [
    "dictionary['lastName'] = \"z\""
   ]
  },
  {
   "cell_type": "code",
   "execution_count": 73,
   "metadata": {},
   "outputs": [
    {
     "data": {
      "text/plain": [
       "{'firstName': 'a', 'lastName': 'z', 'age': 12}"
      ]
     },
     "execution_count": 73,
     "metadata": {},
     "output_type": "execute_result"
    }
   ],
   "source": [
    "dictionary"
   ]
  },
  {
   "cell_type": "code",
   "execution_count": 74,
   "metadata": {},
   "outputs": [],
   "source": [
    "dictionary['address'] = \"xyz\""
   ]
  },
  {
   "cell_type": "code",
   "execution_count": 75,
   "metadata": {},
   "outputs": [
    {
     "data": {
      "text/plain": [
       "{'firstName': 'a', 'lastName': 'z', 'age': 12, 'address': 'xyz'}"
      ]
     },
     "execution_count": 75,
     "metadata": {},
     "output_type": "execute_result"
    }
   ],
   "source": [
    "dictionary"
   ]
  },
  {
   "cell_type": "code",
   "execution_count": 76,
   "metadata": {},
   "outputs": [],
   "source": [
    "del dictionary['address']"
   ]
  },
  {
   "cell_type": "code",
   "execution_count": 77,
   "metadata": {},
   "outputs": [
    {
     "data": {
      "text/plain": [
       "{'firstName': 'a', 'lastName': 'z', 'age': 12}"
      ]
     },
     "execution_count": 77,
     "metadata": {},
     "output_type": "execute_result"
    }
   ],
   "source": [
    "dictionary"
   ]
  },
  {
   "cell_type": "code",
   "execution_count": 79,
   "metadata": {},
   "outputs": [
    {
     "name": "stdout",
     "output_type": "stream",
     "text": [
      "firstName\n",
      "lastName\n",
      "age\n"
     ]
    }
   ],
   "source": [
    "for i in dictionary.keys():\n",
    "    print(i)"
   ]
  },
  {
   "cell_type": "code",
   "execution_count": 81,
   "metadata": {},
   "outputs": [
    {
     "name": "stdout",
     "output_type": "stream",
     "text": [
      "a\n",
      "z\n",
      "12\n"
     ]
    }
   ],
   "source": [
    "for i in dictionary.values():\n",
    "    print(i)"
   ]
  },
  {
   "cell_type": "code",
   "execution_count": 84,
   "metadata": {},
   "outputs": [
    {
     "name": "stdout",
     "output_type": "stream",
     "text": [
      "firstName a\n",
      "lastName z\n",
      "age 12\n"
     ]
    }
   ],
   "source": [
    "for key, value in dictionary.items():\n",
    "    print(key, value)"
   ]
  },
  {
   "cell_type": "code",
   "execution_count": 85,
   "metadata": {},
   "outputs": [],
   "source": [
    "# List of Dictionaries"
   ]
  },
  {
   "cell_type": "code",
   "execution_count": 97,
   "metadata": {},
   "outputs": [],
   "source": [
    "database = [\n",
    "    {\n",
    "       'firstName': 'a', 'lastName': 'x', 'age': 12 \n",
    "    },\n",
    "    {\n",
    "        'firstName': 'b', 'lastName': 'y', 'age': 14\n",
    "    },\n",
    "    {\n",
    "        'firstName': 'c', 'lastName': 'z', 'age': 16\n",
    "    }\n",
    "]"
   ]
  },
  {
   "cell_type": "code",
   "execution_count": 99,
   "metadata": {},
   "outputs": [],
   "source": [
    "database.append(\n",
    "    {'firstName': 'ab', 'lastName': 'xy', 'age': 19}\n",
    ")"
   ]
  },
  {
   "cell_type": "code",
   "execution_count": 101,
   "metadata": {},
   "outputs": [],
   "source": [
    "del database[3]"
   ]
  },
  {
   "cell_type": "code",
   "execution_count": 103,
   "metadata": {},
   "outputs": [],
   "source": [
    "database[1]['address'] = \"xyz\""
   ]
  },
  {
   "cell_type": "code",
   "execution_count": 105,
   "metadata": {},
   "outputs": [],
   "source": [
    "database[1]['lastName'] = \"xyz\""
   ]
  },
  {
   "cell_type": "code",
   "execution_count": 106,
   "metadata": {},
   "outputs": [
    {
     "data": {
      "text/plain": [
       "[{'firstName': 'a', 'lastName': 'x', 'age': 12},\n",
       " {'firstName': 'b', 'lastName': 'xyz', 'age': 14, 'address': 'xyz'},\n",
       " {'firstName': 'c', 'lastName': 'z', 'age': 16}]"
      ]
     },
     "execution_count": 106,
     "metadata": {},
     "output_type": "execute_result"
    }
   ],
   "source": [
    "database"
   ]
  },
  {
   "cell_type": "code",
   "execution_count": null,
   "metadata": {},
   "outputs": [],
   "source": []
  }
 ],
 "metadata": {
  "kernelspec": {
   "display_name": "Python 3",
   "language": "python",
   "name": "python3"
  },
  "language_info": {
   "codemirror_mode": {
    "name": "ipython",
    "version": 3
   },
   "file_extension": ".py",
   "mimetype": "text/x-python",
   "name": "python",
   "nbconvert_exporter": "python",
   "pygments_lexer": "ipython3",
   "version": "3.8.5"
  }
 },
 "nbformat": 4,
 "nbformat_minor": 4
}
