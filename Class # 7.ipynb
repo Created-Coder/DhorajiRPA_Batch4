{
 "cells": [
  {
   "cell_type": "code",
   "execution_count": 14,
   "id": "fb0f8909",
   "metadata": {},
   "outputs": [],
   "source": [
    "import json\n",
    "import csv"
   ]
  },
  {
   "cell_type": "code",
   "execution_count": 7,
   "id": "657f000d",
   "metadata": {},
   "outputs": [],
   "source": [
    "with open(\"data.json\", \"w\") as f:\n",
    "    dict = {\n",
    "        \"name\" : \"abc\",\n",
    "        \"age\" : 123\n",
    "    }\n",
    "    \n",
    "    json.dump(dict, f)"
   ]
  },
  {
   "cell_type": "code",
   "execution_count": 8,
   "id": "98e16b4f",
   "metadata": {},
   "outputs": [],
   "source": [
    "with open(\"data.json\", \"a\") as f:\n",
    "    dict = {\n",
    "        \"name\" : \"abc\",\n",
    "        \"age\" : 123\n",
    "    }\n",
    "    \n",
    "    json.dump(dict, f)"
   ]
  },
  {
   "cell_type": "code",
   "execution_count": 13,
   "id": "6fae25bb",
   "metadata": {},
   "outputs": [
    {
     "name": "stdout",
     "output_type": "stream",
     "text": [
      "{'name': 'abc', 'age': 123}\n"
     ]
    }
   ],
   "source": [
    "with open(\"data.json\") as f:\n",
    "    data = json.load(f)\n",
    "    print(data)"
   ]
  },
  {
   "cell_type": "code",
   "execution_count": 28,
   "id": "ce132fe8",
   "metadata": {},
   "outputs": [
    {
     "name": "stdout",
     "output_type": "stream",
     "text": [
      "This File does not exists\n"
     ]
    }
   ],
   "source": [
    "try:\n",
    "    total = \"19\" / 2\n",
    "    \n",
    "    with open(\"Error.csv\", \"r\") as f:\n",
    "        data = csv.readlines()\n",
    "    \n",
    "    \n",
    "except (FileNotFoundError, TypeError):\n",
    "    print(\"This File does not exists\")\n"
   ]
  },
  {
   "cell_type": "code",
   "execution_count": 30,
   "id": "a899badd",
   "metadata": {},
   "outputs": [
    {
     "name": "stdout",
     "output_type": "stream",
     "text": [
      "unsupported operand type(s) for /: 'str' and 'int'\n",
      "I am a code\n"
     ]
    }
   ],
   "source": [
    "try:\n",
    "    total = \"19\" / 2\n",
    "    \n",
    "    with open(\"Error.csv\", \"r\") as f:\n",
    "        data = csv.readlines()\n",
    "    \n",
    "    \n",
    "except Exception as e:\n",
    "    print(e)\n",
    "\n"
   ]
  },
  {
   "cell_type": "code",
   "execution_count": null,
   "id": "082ff370",
   "metadata": {},
   "outputs": [],
   "source": []
  }
 ],
 "metadata": {
  "kernelspec": {
   "display_name": "Python 3 (ipykernel)",
   "language": "python",
   "name": "python3"
  },
  "language_info": {
   "codemirror_mode": {
    "name": "ipython",
    "version": 3
   },
   "file_extension": ".py",
   "mimetype": "text/x-python",
   "name": "python",
   "nbconvert_exporter": "python",
   "pygments_lexer": "ipython3",
   "version": "3.10.9"
  }
 },
 "nbformat": 4,
 "nbformat_minor": 5
}
